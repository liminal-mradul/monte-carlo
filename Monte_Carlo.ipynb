{
  "nbformat": 4,
  "nbformat_minor": 0,
  "metadata": {
    "colab": {
      "provenance": [],
      "authorship_tag": "ABX9TyPLCpVAeXolk3tEvcaaCfj/",
      "include_colab_link": true
    },
    "kernelspec": {
      "name": "python3",
      "display_name": "Python 3"
    },
    "language_info": {
      "name": "python"
    }
  },
  "cells": [
    {
      "cell_type": "markdown",
      "metadata": {
        "id": "view-in-github",
        "colab_type": "text"
      },
      "source": [
        "<a href=\"https://colab.research.google.com/github/liminal-mradul/monte-carlo/blob/main/Monte_Carlo.ipynb\" target=\"_parent\"><img src=\"https://colab.research.google.com/assets/colab-badge.svg\" alt=\"Open In Colab\"/></a>"
      ]
    },
    {
      "cell_type": "code",
      "execution_count": 6,
      "metadata": {
        "colab": {
          "base_uri": "https://localhost:8080/"
        },
        "id": "ThWf1Un2aicl",
        "outputId": "dbfec262-65e9-4c4f-900f-af0e5983409b"
      },
      "outputs": [
        {
          "output_type": "stream",
          "name": "stdout",
          "text": [
            "Requirement already satisfied: gmpy2 in /usr/local/lib/python3.11/dist-packages (2.2.1)\n",
            "Requirement already satisfied: numpy in /usr/local/lib/python3.11/dist-packages (2.0.2)\n",
            "Running Monte Carlo approximation...\n",
            "Monte Carlo Approx (first 50 digits): 3.141450297569763701651428474423653890309437628402...\n",
            "\n",
            "Computing reference π using BBP formula...\n",
            "Verified π (BBP, first 50 digits): 3.141592653589793238462643383279502884197169399375...\n"
          ]
        }
      ],
      "source": [
        "!pip install gmpy2 numpy\n",
        "import math\n",
        "import random\n",
        "from decimal import Decimal, getcontext\n",
        "from concurrent.futures import ProcessPoolExecutor\n",
        "import gmpy2\n",
        "from gmpy2 import mpz, gcd\n",
        "\n",
        "# Set precision to 1000+ digits\n",
        "getcontext().prec = 1010\n",
        "\n",
        "def is_coprime(a, b):\n",
        "    \"\"\"Check if two numbers are coprime using gmpy2 for speed.\"\"\"\n",
        "    return gcd(mpz(a), mpz(b)) == 1\n",
        "\n",
        "def worker(samples):\n",
        "    \"\"\"Worker function that can be pickled (defined at module level).\"\"\"\n",
        "    random.seed()  # Ensure each worker has a unique seed\n",
        "    coprime_count = 0\n",
        "    for _ in range(samples):\n",
        "        a = random.getrandbits(64)\n",
        "        b = random.getrandbits(64)\n",
        "        if is_coprime(a, b):\n",
        "            coprime_count += 1\n",
        "    return coprime_count\n",
        "\n",
        "def monte_carlo_pi_parallel(total_samples, num_workers=8):\n",
        "    \"\"\"Parallel Monte Carlo coprimality sampling (Colab-compatible).\"\"\"\n",
        "    samples_per_worker = total_samples // num_workers\n",
        "    with ProcessPoolExecutor(max_workers=num_workers) as executor:\n",
        "        results = list(executor.map(worker, [samples_per_worker] * num_workers))\n",
        "\n",
        "    total_coprime = sum(results)\n",
        "    p = Decimal(total_coprime) / Decimal(total_samples)\n",
        "    return (Decimal(6) / p).sqrt()\n",
        "\n",
        "def verify_bbp_pi(digits):\n",
        "    \"\"\"BBP formula for verifying π digits (deterministic).\"\"\"\n",
        "    pi = Decimal(0)\n",
        "    for k in range(digits + 10):  # Extra terms for accuracy\n",
        "        term = (Decimal(4)/(8*k+1) - Decimal(2)/(8*k+4) -\n",
        "               Decimal(1)/(8*k+5) - Decimal(1)/(8*k+6)) / Decimal(16)**k\n",
        "        pi += term\n",
        "    return pi\n",
        "\n",
        "if __name__ == \"__main__\":\n",
        "    # Step 1: Monte Carlo approximation (adjust samples for speed/precision)\n",
        "    print(\"Running Monte Carlo approximation...\")\n",
        "    approx_pi = monte_carlo_pi_parallel(total_samples=10**7)  # Start with 10M samples for testing\n",
        "    print(f\"Monte Carlo Approx (first 50 digits): {str(approx_pi)[:50]}...\")\n",
        "\n",
        "    # Step 2: Verify with BBP (deterministic)\n",
        "    print(\"\\nComputing reference π using BBP formula...\")\n",
        "    true_pi = verify_bbp_pi(1000)\n",
        "    print(f\"Verified π (BBP, first 50 digits): {str(true_pi)[:50]}...\")"
      ]
    }
  ]
}